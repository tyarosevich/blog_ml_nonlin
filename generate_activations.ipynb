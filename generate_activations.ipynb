{
 "metadata": {
  "language_info": {
   "codemirror_mode": {
    "name": "ipython",
    "version": 3
   },
   "file_extension": ".py",
   "mimetype": "text/x-python",
   "name": "python",
   "nbconvert_exporter": "python",
   "pygments_lexer": "ipython3",
   "version": "3.7.9-final"
  },
  "orig_nbformat": 2,
  "kernelspec": {
   "name": "python3",
   "display_name": "Python 3",
   "language": "python"
  }
 },
 "nbformat": 4,
 "nbformat_minor": 2,
 "cells": [
  {
   "cell_type": "code",
   "execution_count": 33,
   "metadata": {},
   "outputs": [],
   "source": [
    "import pandas as pd\n",
    "import numpy as np\n",
    "from keras.preprocessing.sequence import pad_sequences\n",
    "import seaborn as sns\n",
    "import matplotlib.pyplot as plt\n",
    "from keras.models import Sequential, load_model\n",
    "from keras.layers.core import Activation, Dense\n",
    "from keras.models import Sequential, load_model\n",
    "from keras import Input\n",
    "import keras.backend as K\n",
    "import mpl_toolkits.mplot3d.axes3d as p3\n",
    "import matplotlib.animation as animation"
   ]
  },
  {
   "cell_type": "code",
   "execution_count": 6,
   "metadata": {},
   "outputs": [],
   "source": [
    "n=100\n",
    "model = Sequential()\n",
    "model.add(Dense(units=3, activation='relu', input_shape=(3,) ))\n",
    "for i in range(n):\n",
    "    model.add(Dense(units=3, activation='sigmoid'))\n",
    "model.add(Dense(units=1, activation='sigmoid'))\n",
    "model.compile(optimizer='adam', loss='binary_crossentropy', metrics=['acc'])\n",
    "input=np.random.rand(1,3) * 10\n",
    "dummy_train= np.ndarray([1])"
   ]
  },
  {
   "cell_type": "code",
   "execution_count": 7,
   "metadata": {},
   "outputs": [
    {
     "output_type": "stream",
     "name": "stdout",
     "text": [
      "1/1 [==============================] - 0s 769us/step - loss: 1.3031 - acc: 0.0000e+00\n"
     ]
    },
    {
     "output_type": "execute_result",
     "data": {
      "text/plain": [
       "<tensorflow.python.keras.callbacks.History at 0x7f7a746fe350>"
      ]
     },
     "metadata": {},
     "execution_count": 7
    }
   ],
   "source": [
    "model.fit(input, dummy_train, epochs=1)"
   ]
  },
  {
   "cell_type": "code",
   "execution_count": 7,
   "metadata": {},
   "outputs": [
    {
     "output_type": "stream",
     "name": "stdout",
     "text": [
      "Model: \"sequential\"\n_________________________________________________________________\nLayer (type)                 Output Shape              Param #   \n=================================================================\ndense (Dense)                (None, 3)                 12        \n_________________________________________________________________\ndense_1 (Dense)              (None, 3)                 12        \n_________________________________________________________________\ndense_2 (Dense)              (None, 3)                 12        \n_________________________________________________________________\ndense_3 (Dense)              (None, 3)                 12        \n_________________________________________________________________\ndense_4 (Dense)              (None, 3)                 12        \n_________________________________________________________________\ndense_5 (Dense)              (None, 3)                 12        \n_________________________________________________________________\ndense_6 (Dense)              (None, 3)                 12        \n_________________________________________________________________\ndense_7 (Dense)              (None, 3)                 12        \n_________________________________________________________________\ndense_8 (Dense)              (None, 3)                 12        \n_________________________________________________________________\ndense_9 (Dense)              (None, 3)                 12        \n_________________________________________________________________\ndense_10 (Dense)             (None, 3)                 12        \n_________________________________________________________________\ndense_11 (Dense)             (None, 3)                 12        \n_________________________________________________________________\ndense_12 (Dense)             (None, 3)                 12        \n_________________________________________________________________\ndense_13 (Dense)             (None, 3)                 12        \n_________________________________________________________________\ndense_14 (Dense)             (None, 3)                 12        \n_________________________________________________________________\ndense_15 (Dense)             (None, 3)                 12        \n_________________________________________________________________\ndense_16 (Dense)             (None, 3)                 12        \n_________________________________________________________________\ndense_17 (Dense)             (None, 3)                 12        \n_________________________________________________________________\ndense_18 (Dense)             (None, 3)                 12        \n_________________________________________________________________\ndense_19 (Dense)             (None, 3)                 12        \n_________________________________________________________________\ndense_20 (Dense)             (None, 3)                 12        \n_________________________________________________________________\ndense_21 (Dense)             (None, 3)                 12        \n_________________________________________________________________\ndense_22 (Dense)             (None, 3)                 12        \n_________________________________________________________________\ndense_23 (Dense)             (None, 3)                 12        \n_________________________________________________________________\ndense_24 (Dense)             (None, 3)                 12        \n_________________________________________________________________\ndense_25 (Dense)             (None, 3)                 12        \n_________________________________________________________________\ndense_26 (Dense)             (None, 3)                 12        \n_________________________________________________________________\ndense_27 (Dense)             (None, 3)                 12        \n_________________________________________________________________\ndense_28 (Dense)             (None, 3)                 12        \n_________________________________________________________________\ndense_29 (Dense)             (None, 3)                 12        \n_________________________________________________________________\ndense_30 (Dense)             (None, 3)                 12        \n_________________________________________________________________\ndense_31 (Dense)             (None, 3)                 12        \n_________________________________________________________________\ndense_32 (Dense)             (None, 3)                 12        \n_________________________________________________________________\ndense_33 (Dense)             (None, 3)                 12        \n_________________________________________________________________\ndense_34 (Dense)             (None, 3)                 12        \n_________________________________________________________________\ndense_35 (Dense)             (None, 3)                 12        \n_________________________________________________________________\ndense_36 (Dense)             (None, 3)                 12        \n_________________________________________________________________\ndense_37 (Dense)             (None, 3)                 12        \n_________________________________________________________________\ndense_38 (Dense)             (None, 3)                 12        \n_________________________________________________________________\ndense_39 (Dense)             (None, 3)                 12        \n_________________________________________________________________\ndense_40 (Dense)             (None, 3)                 12        \n_________________________________________________________________\ndense_41 (Dense)             (None, 3)                 12        \n_________________________________________________________________\ndense_42 (Dense)             (None, 3)                 12        \n_________________________________________________________________\ndense_43 (Dense)             (None, 3)                 12        \n_________________________________________________________________\ndense_44 (Dense)             (None, 3)                 12        \n_________________________________________________________________\ndense_45 (Dense)             (None, 3)                 12        \n_________________________________________________________________\ndense_46 (Dense)             (None, 3)                 12        \n_________________________________________________________________\ndense_47 (Dense)             (None, 3)                 12        \n_________________________________________________________________\ndense_48 (Dense)             (None, 3)                 12        \n_________________________________________________________________\ndense_49 (Dense)             (None, 3)                 12        \n_________________________________________________________________\ndense_50 (Dense)             (None, 3)                 12        \n_________________________________________________________________\ndense_51 (Dense)             (None, 3)                 12        \n_________________________________________________________________\ndense_52 (Dense)             (None, 3)                 12        \n_________________________________________________________________\ndense_53 (Dense)             (None, 3)                 12        \n_________________________________________________________________\ndense_54 (Dense)             (None, 3)                 12        \n_________________________________________________________________\ndense_55 (Dense)             (None, 3)                 12        \n_________________________________________________________________\ndense_56 (Dense)             (None, 3)                 12        \n_________________________________________________________________\ndense_57 (Dense)             (None, 3)                 12        \n_________________________________________________________________\ndense_58 (Dense)             (None, 3)                 12        \n_________________________________________________________________\ndense_59 (Dense)             (None, 3)                 12        \n_________________________________________________________________\ndense_60 (Dense)             (None, 3)                 12        \n_________________________________________________________________\ndense_61 (Dense)             (None, 3)                 12        \n_________________________________________________________________\ndense_62 (Dense)             (None, 3)                 12        \n_________________________________________________________________\ndense_63 (Dense)             (None, 3)                 12        \n_________________________________________________________________\ndense_64 (Dense)             (None, 3)                 12        \n_________________________________________________________________\ndense_65 (Dense)             (None, 3)                 12        \n_________________________________________________________________\ndense_66 (Dense)             (None, 3)                 12        \n_________________________________________________________________\ndense_67 (Dense)             (None, 3)                 12        \n_________________________________________________________________\ndense_68 (Dense)             (None, 3)                 12        \n_________________________________________________________________\ndense_69 (Dense)             (None, 3)                 12        \n_________________________________________________________________\ndense_70 (Dense)             (None, 3)                 12        \n_________________________________________________________________\ndense_71 (Dense)             (None, 3)                 12        \n_________________________________________________________________\ndense_72 (Dense)             (None, 3)                 12        \n_________________________________________________________________\ndense_73 (Dense)             (None, 3)                 12        \n_________________________________________________________________\ndense_74 (Dense)             (None, 3)                 12        \n_________________________________________________________________\ndense_75 (Dense)             (None, 3)                 12        \n_________________________________________________________________\ndense_76 (Dense)             (None, 3)                 12        \n_________________________________________________________________\ndense_77 (Dense)             (None, 3)                 12        \n_________________________________________________________________\ndense_78 (Dense)             (None, 3)                 12        \n_________________________________________________________________\ndense_79 (Dense)             (None, 3)                 12        \n_________________________________________________________________\ndense_80 (Dense)             (None, 3)                 12        \n_________________________________________________________________\ndense_81 (Dense)             (None, 3)                 12        \n_________________________________________________________________\ndense_82 (Dense)             (None, 3)                 12        \n_________________________________________________________________\ndense_83 (Dense)             (None, 3)                 12        \n_________________________________________________________________\ndense_84 (Dense)             (None, 3)                 12        \n_________________________________________________________________\ndense_85 (Dense)             (None, 3)                 12        \n_________________________________________________________________\ndense_86 (Dense)             (None, 3)                 12        \n_________________________________________________________________\ndense_87 (Dense)             (None, 3)                 12        \n_________________________________________________________________\ndense_88 (Dense)             (None, 3)                 12        \n_________________________________________________________________\ndense_89 (Dense)             (None, 3)                 12        \n_________________________________________________________________\ndense_90 (Dense)             (None, 3)                 12        \n_________________________________________________________________\ndense_91 (Dense)             (None, 3)                 12        \n_________________________________________________________________\ndense_92 (Dense)             (None, 3)                 12        \n_________________________________________________________________\ndense_93 (Dense)             (None, 3)                 12        \n_________________________________________________________________\ndense_94 (Dense)             (None, 3)                 12        \n_________________________________________________________________\ndense_95 (Dense)             (None, 3)                 12        \n_________________________________________________________________\ndense_96 (Dense)             (None, 3)                 12        \n_________________________________________________________________\ndense_97 (Dense)             (None, 3)                 12        \n_________________________________________________________________\ndense_98 (Dense)             (None, 3)                 12        \n_________________________________________________________________\ndense_99 (Dense)             (None, 3)                 12        \n_________________________________________________________________\ndense_100 (Dense)            (None, 3)                 12        \n_________________________________________________________________\ndense_101 (Dense)            (None, 1)                 4         \n=================================================================\nTotal params: 1,216\nTrainable params: 1,216\nNon-trainable params: 0\n_________________________________________________________________\n"
     ]
    }
   ],
   "source": [
    "model.summary()"
   ]
  },
  {
   "cell_type": "code",
   "execution_count": 10,
   "metadata": {},
   "outputs": [],
   "source": [
    "outputs = []\n",
    "for layer in model.layers:\n",
    "    keras_function = K.function([model.input], [layer.output])\n",
    "    outputs.append(keras_function([input, 1]))\n"
   ]
  },
  {
   "cell_type": "code",
   "execution_count": 5,
   "metadata": {},
   "outputs": [
    {
     "output_type": "stream",
     "name": "stdout",
     "text": [
      "[array([[0., 0., 0.]], dtype=float32)]\n"
     ]
    }
   ],
   "source": [
    "print(outputs[9])"
   ]
  },
  {
   "cell_type": "code",
   "execution_count": 9,
   "metadata": {},
   "outputs": [
    {
     "output_type": "stream",
     "name": "stdout",
     "text": [
      "[array([[0.       , 1.1038326, 0.       ]], dtype=float32)]\n[array([[0.3929434 , 0.33708754, 0.33394969]], dtype=float32)]\n[array([[0.37065464, 0.54582596, 0.471022  ]], dtype=float32)]\n[array([[0.63900536, 0.57777023, 0.59427005]], dtype=float32)]\n[array([[0.67934597, 0.31746376, 0.608877  ]], dtype=float32)]\n[array([[0.65341294, 0.2588166 , 0.36463946]], dtype=float32)]\n[array([[0.6287242 , 0.64199114, 0.5848758 ]], dtype=float32)]\n[array([[0.31754658, 0.6181464 , 0.29116297]], dtype=float32)]\n[array([[0.59002864, 0.35456598, 0.6377269 ]], dtype=float32)]\n[array([[0.57696277, 0.60654014, 0.48889512]], dtype=float32)]\n[array([[0.6162791 , 0.3621962 , 0.29610986]], dtype=float32)]\n[array([[0.28131694, 0.61241657, 0.29367965]], dtype=float32)]\n[array([[0.3985682 , 0.58424735, 0.6215834 ]], dtype=float32)]\n[array([[0.44674036, 0.6960062 , 0.65043217]], dtype=float32)]\n[array([[0.46466678, 0.62258565, 0.663926  ]], dtype=float32)]\n[array([[0.49218512, 0.60046816, 0.32992616]], dtype=float32)]\n[array([[0.44780958, 0.7575032 , 0.5378685 ]], dtype=float32)]\n[array([[0.4493062 , 0.2794819 , 0.53051364]], dtype=float32)]\n[array([[0.5983969 , 0.5838888 , 0.31863344]], dtype=float32)]\n[array([[0.49761146, 0.74028975, 0.2911813 ]], dtype=float32)]\n[array([[0.27184433, 0.738578  , 0.47790504]], dtype=float32)]\n[array([[0.37630698, 0.3124619 , 0.56031644]], dtype=float32)]\n[array([[0.500024  , 0.31275955, 0.54144293]], dtype=float32)]\n[array([[0.5297771, 0.6653451, 0.5549845]], dtype=float32)]\n[array([[0.6574774, 0.5614122, 0.7199105]], dtype=float32)]\n[array([[0.4986078 , 0.46742043, 0.56753045]], dtype=float32)]\n[array([[0.47115192, 0.6092945 , 0.41229695]], dtype=float32)]\n[array([[0.24946639, 0.4113437 , 0.44453555]], dtype=float32)]\n[array([[0.4058874 , 0.55945784, 0.4634361 ]], dtype=float32)]\n[array([[0.4667997 , 0.55637467, 0.51543313]], dtype=float32)]\n[array([[0.5356802 , 0.5364243 , 0.43751478]], dtype=float32)]\n[array([[0.6966005 , 0.5817775 , 0.57574505]], dtype=float32)]\n[array([[0.7434469 , 0.40605527, 0.44748566]], dtype=float32)]\n[array([[0.3240167 , 0.63690895, 0.556433  ]], dtype=float32)]\n[array([[0.45200786, 0.47758812, 0.5132246 ]], dtype=float32)]\n[array([[0.38057244, 0.65724456, 0.6047555 ]], dtype=float32)]\n[array([[0.48063695, 0.35850188, 0.67808175]], dtype=float32)]\n[array([[0.6117565 , 0.53432745, 0.36896747]], dtype=float32)]\n[array([[0.57263285, 0.70279604, 0.38159785]], dtype=float32)]\n[array([[0.72263324, 0.53527683, 0.6087372 ]], dtype=float32)]\n[array([[0.51935726, 0.2113288 , 0.50757444]], dtype=float32)]\n[array([[0.4835202 , 0.39540076, 0.42613205]], dtype=float32)]\n[array([[0.6829281 , 0.40406182, 0.4903625 ]], dtype=float32)]\n[array([[0.62866193, 0.4514292 , 0.41087028]], dtype=float32)]\n[array([[0.60888875, 0.59960383, 0.6522633 ]], dtype=float32)]\n[array([[0.5704307 , 0.7777206 , 0.70224357]], dtype=float32)]\n[array([[0.45162934, 0.4384632 , 0.687646  ]], dtype=float32)]\n[array([[0.47775584, 0.6368449 , 0.50187016]], dtype=float32)]\n[array([[0.44308034, 0.38566563, 0.5279422 ]], dtype=float32)]\n[array([[0.423262  , 0.57981384, 0.5542344 ]], dtype=float32)]\n[array([[0.2596488 , 0.7234887 , 0.40159065]], dtype=float32)]\n[array([[0.5341988 , 0.4421595 , 0.62247276]], dtype=float32)]\n[array([[0.5042478 , 0.57643056, 0.40313372]], dtype=float32)]\n[array([[0.55602986, 0.5199592 , 0.28971434]], dtype=float32)]\n[array([[0.3529011 , 0.60539705, 0.62618464]], dtype=float32)]\n[array([[0.24752387, 0.41048056, 0.35135365]], dtype=float32)]\n[array([[0.5127664, 0.5213544, 0.614742 ]], dtype=float32)]\n[array([[0.79701376, 0.4846201 , 0.41481206]], dtype=float32)]\n[array([[0.34919655, 0.44430768, 0.3982357 ]], dtype=float32)]\n[array([[0.39908025, 0.60889316, 0.38879076]], dtype=float32)]\n[array([[0.6271026 , 0.5148438 , 0.45258462]], dtype=float32)]\n[array([[0.72700053, 0.37913138, 0.6517314 ]], dtype=float32)]\n[array([[0.45850268, 0.53180087, 0.42439005]], dtype=float32)]\n[array([[0.2723428, 0.5551576, 0.3961252]], dtype=float32)]\n[array([[0.32957017, 0.50888425, 0.43071145]], dtype=float32)]\n[array([[0.63832814, 0.5484289 , 0.432544  ]], dtype=float32)]\n[array([[0.4583689 , 0.42502564, 0.79293436]], dtype=float32)]\n[array([[0.56026876, 0.23026702, 0.3239166 ]], dtype=float32)]\n[array([[0.41350842, 0.44151363, 0.5871052 ]], dtype=float32)]\n[array([[0.55607176, 0.6950871 , 0.48678946]], dtype=float32)]\n[array([[0.5994347 , 0.3687427 , 0.53963053]], dtype=float32)]\n[array([[0.46131128, 0.38079974, 0.6583732 ]], dtype=float32)]\n[array([[0.71229315, 0.6625917 , 0.65928084]], dtype=float32)]\n[array([[0.63370657, 0.6745922 , 0.21775609]], dtype=float32)]\n[array([[0.637944  , 0.3879682 , 0.74813837]], dtype=float32)]\n[array([[0.52685493, 0.3708507 , 0.7018112 ]], dtype=float32)]\n[array([[0.4670191 , 0.2915492 , 0.49483323]], dtype=float32)]\n[array([[0.6771726, 0.6663861, 0.3936417]], dtype=float32)]\n[array([[0.7416917 , 0.33425757, 0.67178124]], dtype=float32)]\n[array([[0.48765385, 0.5689294 , 0.40505475]], dtype=float32)]\n[array([[0.38701907, 0.46825853, 0.46204582]], dtype=float32)]\n[array([[0.6774969 , 0.501263  , 0.46287766]], dtype=float32)]\n[array([[0.44856736, 0.3436844 , 0.7048851 ]], dtype=float32)]\n[array([[0.5296224 , 0.25426555, 0.38540983]], dtype=float32)]\n[array([[0.49979258, 0.38903219, 0.473126  ]], dtype=float32)]\n[array([[0.7011702 , 0.33903176, 0.37067664]], dtype=float32)]\n[array([[0.5148568 , 0.47494897, 0.6107412 ]], dtype=float32)]\n[array([[0.5853991 , 0.4617351 , 0.31700724]], dtype=float32)]\n[array([[0.58500326, 0.50945026, 0.5276097 ]], dtype=float32)]\n[array([[0.45903528, 0.27634853, 0.4184363 ]], dtype=float32)]\n[array([[0.57483166, 0.40389514, 0.6159704 ]], dtype=float32)]\n[array([[0.41862828, 0.68357956, 0.4576588 ]], dtype=float32)]\n[array([[0.44000107, 0.6308131 , 0.4206681 ]], dtype=float32)]\n[array([[0.5926153 , 0.39330244, 0.26498276]], dtype=float32)]\n[array([[0.5183747, 0.5327443, 0.4181105]], dtype=float32)]\n[array([[0.54981905, 0.5684144 , 0.3658583 ]], dtype=float32)]\n[array([[0.5534487 , 0.6570864 , 0.31594568]], dtype=float32)]\n[array([[0.58011144, 0.4956185 , 0.4112954 ]], dtype=float32)]\n[array([[0.4363644 , 0.5780605 , 0.38370037]], dtype=float32)]\n[array([[0.5631428 , 0.44686404, 0.47640795]], dtype=float32)]\n[array([[0.4637702 , 0.47903934, 0.58807087]], dtype=float32)]\n[array([[0.48502785]], dtype=float32)]\n"
     ]
    }
   ],
   "source": [
    "for x in outputs:\n",
    "    print(x)"
   ]
  },
  {
   "cell_type": "code",
   "execution_count": 29,
   "metadata": {},
   "outputs": [],
   "source": [
    "xyz=outputs[:-2]"
   ]
  },
  {
   "cell_type": "code",
   "execution_count": 25,
   "metadata": {},
   "outputs": [],
   "source": [
    "# xyz=np.concatenate(xyz, axis=1)\n",
    "# xyz=xyz[0,:,:]"
   ]
  },
  {
   "cell_type": "code",
   "execution_count": 30,
   "metadata": {},
   "outputs": [],
   "source": [
    "def animate_scatters(iteration, data, scatters):\n",
    "    \"\"\"\n",
    "    Update the data held by the scatter plot and therefore animates it.\n",
    "    Args:\n",
    "        iteration (int): Current iteration of the animation\n",
    "        data (list): List of the data positions at each iteration.\n",
    "        scatters (list): List of all the scatters (One per element)\n",
    "    Returns:\n",
    "        list: List of scatters (One per element) with new coordinates\n",
    "    \"\"\"\n",
    "    for i in range(data[0].shape[0]):\n",
    "        scatters[i]._offsets3d = (data[iteration][i,0:1], data[iteration][i,1:2], data[iteration][i,2:])\n",
    "    return scatters"
   ]
  },
  {
   "cell_type": "code",
   "execution_count": 31,
   "metadata": {},
   "outputs": [],
   "source": [
    "\n",
    "def main(data, save=False):\n",
    "    \"\"\"\n",
    "    Creates the 3D figure and animates it with the input data.\n",
    "    Args:\n",
    "        data (list): List of the data positions at each iteration.\n",
    "        save (bool): Whether to save the recording of the animation. (Default to False).\n",
    "    \"\"\"\n",
    "\n",
    "    # Attaching 3D axis to the figure\n",
    "    fig = plt.figure()\n",
    "    ax = p3.Axes3D(fig)\n",
    "\n",
    "    # Initialize scatters\n",
    "    scatters = [ ax.scatter(data[0][i,0:1], data[0][i,1:2], data[0][i,2:]) for i in range(data[0].shape[0]) ]\n",
    "\n",
    "    # Number of iterations\n",
    "    iterations = len(data)\n",
    "\n",
    "    # Setting the axes properties\n",
    "    ax.set_xlim3d([-50, 50])\n",
    "    ax.set_xlabel('X')\n",
    "\n",
    "    ax.set_ylim3d([-50, 50])\n",
    "    ax.set_ylabel('Y')\n",
    "\n",
    "    ax.set_zlim3d([-50, 50])\n",
    "    ax.set_zlabel('Z')\n",
    "\n",
    "    ax.set_title('3D Animated Scatter Example')\n",
    "\n",
    "    # Provide starting angle for the view.\n",
    "    ax.view_init(25, 10)\n",
    "\n",
    "    ani = animation.FuncAnimation(fig, animate_scatters, iterations, fargs=(data, scatters),\n",
    "                                       interval=50, blit=False, repeat=True)\n",
    "\n",
    "    if save:\n",
    "        Writer = animation.writers['ffmpeg']\n",
    "        writer = Writer(fps=30, metadata=dict(artist='Me'), bitrate=1800, extra_args=['-vcodec', 'libx264'])\n",
    "        ani.save('3d-scatted-animated.mp4', writer=writer)\n",
    "\n",
    "    plt.show()"
   ]
  },
  {
   "cell_type": "code",
   "execution_count": 34,
   "metadata": {},
   "outputs": [
    {
     "output_type": "error",
     "ename": "AttributeError",
     "evalue": "'list' object has no attribute 'shape'",
     "traceback": [
      "\u001b[0;31m---------------------------------------------------------------------------\u001b[0m",
      "\u001b[0;31mAttributeError\u001b[0m                            Traceback (most recent call last)",
      "\u001b[0;32m<ipython-input-34-06682a6e0715>\u001b[0m in \u001b[0;36m<module>\u001b[0;34m\u001b[0m\n\u001b[0;32m----> 1\u001b[0;31m \u001b[0mmain\u001b[0m\u001b[0;34m(\u001b[0m\u001b[0mxyz\u001b[0m\u001b[0;34m)\u001b[0m\u001b[0;34m\u001b[0m\u001b[0;34m\u001b[0m\u001b[0m\n\u001b[0m",
      "\u001b[0;32m<ipython-input-31-7db2c79ffed0>\u001b[0m in \u001b[0;36mmain\u001b[0;34m(data, save)\u001b[0m\n\u001b[1;32m     12\u001b[0m \u001b[0;34m\u001b[0m\u001b[0m\n\u001b[1;32m     13\u001b[0m     \u001b[0;31m# Initialize scatters\u001b[0m\u001b[0;34m\u001b[0m\u001b[0;34m\u001b[0m\u001b[0;34m\u001b[0m\u001b[0m\n\u001b[0;32m---> 14\u001b[0;31m     \u001b[0mscatters\u001b[0m \u001b[0;34m=\u001b[0m \u001b[0;34m[\u001b[0m \u001b[0max\u001b[0m\u001b[0;34m.\u001b[0m\u001b[0mscatter\u001b[0m\u001b[0;34m(\u001b[0m\u001b[0mdata\u001b[0m\u001b[0;34m[\u001b[0m\u001b[0;36m0\u001b[0m\u001b[0;34m]\u001b[0m\u001b[0;34m[\u001b[0m\u001b[0mi\u001b[0m\u001b[0;34m,\u001b[0m\u001b[0;36m0\u001b[0m\u001b[0;34m:\u001b[0m\u001b[0;36m1\u001b[0m\u001b[0;34m]\u001b[0m\u001b[0;34m,\u001b[0m \u001b[0mdata\u001b[0m\u001b[0;34m[\u001b[0m\u001b[0;36m0\u001b[0m\u001b[0;34m]\u001b[0m\u001b[0;34m[\u001b[0m\u001b[0mi\u001b[0m\u001b[0;34m,\u001b[0m\u001b[0;36m1\u001b[0m\u001b[0;34m:\u001b[0m\u001b[0;36m2\u001b[0m\u001b[0;34m]\u001b[0m\u001b[0;34m,\u001b[0m \u001b[0mdata\u001b[0m\u001b[0;34m[\u001b[0m\u001b[0;36m0\u001b[0m\u001b[0;34m]\u001b[0m\u001b[0;34m[\u001b[0m\u001b[0mi\u001b[0m\u001b[0;34m,\u001b[0m\u001b[0;36m2\u001b[0m\u001b[0;34m:\u001b[0m\u001b[0;34m]\u001b[0m\u001b[0;34m)\u001b[0m \u001b[0;32mfor\u001b[0m \u001b[0mi\u001b[0m \u001b[0;32min\u001b[0m \u001b[0mrange\u001b[0m\u001b[0;34m(\u001b[0m\u001b[0mdata\u001b[0m\u001b[0;34m[\u001b[0m\u001b[0;36m0\u001b[0m\u001b[0;34m]\u001b[0m\u001b[0;34m.\u001b[0m\u001b[0mshape\u001b[0m\u001b[0;34m[\u001b[0m\u001b[0;36m0\u001b[0m\u001b[0;34m]\u001b[0m\u001b[0;34m)\u001b[0m \u001b[0;34m]\u001b[0m\u001b[0;34m\u001b[0m\u001b[0;34m\u001b[0m\u001b[0m\n\u001b[0m\u001b[1;32m     15\u001b[0m \u001b[0;34m\u001b[0m\u001b[0m\n\u001b[1;32m     16\u001b[0m     \u001b[0;31m# Number of iterations\u001b[0m\u001b[0;34m\u001b[0m\u001b[0;34m\u001b[0m\u001b[0;34m\u001b[0m\u001b[0m\n",
      "\u001b[0;31mAttributeError\u001b[0m: 'list' object has no attribute 'shape'"
     ]
    }
   ],
   "source": [
    "main(xyz)"
   ]
  },
  {
   "cell_type": "code",
   "execution_count": null,
   "metadata": {},
   "outputs": [],
   "source": []
  }
 ]
}